{
 "cells": [
  {
   "cell_type": "markdown",
   "metadata": {},
   "source": [
    "### Testing Q_Learner class on CartPole\n",
    "We test if the Q_Learner class performs significantly better than an agent which plays without caring of the environment state.\n",
    "\n",
    "Spoiler: it does. By setting by hand two features, the agent learn how to exploit the information they carry.\n",
    "\n",
    "CartPole info:\n",
    "\n",
    "\n",
    "https://gym.openai.com/envs/CartPole-v0/\n",
    "\n",
    "\n",
    "https://github.com/openai/gym/blob/master/gym/envs/classic_control/cartpole.py"
   ]
  },
  {
   "cell_type": "code",
   "execution_count": 3,
   "metadata": {},
   "outputs": [],
   "source": [
    "import gym\n",
    "import numpy as np\n",
    "from Modules import Q_Learner"
   ]
  },
  {
   "cell_type": "code",
   "execution_count": 4,
   "metadata": {},
   "outputs": [],
   "source": [
    "# Overload the abstract method features()\n",
    "class My_Q_Learner(Q_Learner):\n",
    "    def features(self, state, action):\n",
    "        feat1 = state[2:3]\n",
    "        action_sign = 2*action - 1\n",
    "        feat2 = np.abs([state[2] + action_sign])\n",
    "        bias = np.ones(1)\n",
    "        return np.concatenate((feat1, feat2, bias))"
   ]
  },
  {
   "cell_type": "code",
   "execution_count": 5,
   "metadata": {},
   "outputs": [
    {
     "name": "stderr",
     "output_type": "stream",
     "text": [
      "/home/fra/Softwares/anaconda3/envs/pytorch/lib/python3.6/site-packages/gym/envs/registration.py:14: PkgResourcesDeprecationWarning: Parameters to load are deprecated.  Call .resolve and .require separately.\n",
      "  result = entry_point.load(False)\n"
     ]
    },
    {
     "name": "stdout",
     "output_type": "stream",
     "text": [
      "\n",
      "--> Game Over. Rounds: 54\n",
      "Parameter vector:\n",
      "[-0.76997     0.57574827  0.27506385]\n",
      "\n",
      "--> Game Over. Rounds: 24\n",
      "Parameter vector:\n",
      "[0.32158083 0.68152317 0.65735222]\n",
      "\n",
      "--> Game Over. Rounds: 54\n",
      "Parameter vector:\n",
      "[0.29633594 0.689978   0.66039032]\n",
      "\n",
      "--> Game Over. Rounds: 54\n",
      "Parameter vector:\n",
      "[0.27122152 0.69303202 0.66794125]\n",
      "\n",
      "--> Game Over. Rounds: 39\n",
      "Parameter vector:\n",
      "[0.29829979 0.68789529 0.66167764]\n",
      "\n",
      "--> Game Over. Rounds: 34\n",
      "Parameter vector:\n",
      "[0.30291693 0.68789696 0.65957495]\n"
     ]
    }
   ],
   "source": [
    "# Generate the environment\n",
    "env = gym.make('CartPole-v0')\n",
    "\n",
    "# Parameters\n",
    "actions_arr = np.arange(env.action_space.n)\n",
    "d = 3 # <--- set the right number of features\n",
    "learning_rate = 0.01\n",
    "epsilon = 0.9\n",
    "discount_factor = 0.95\n",
    "\n",
    "# Initialize the agent\n",
    "agent = My_Q_Learner(actions_arr, d, learning_rate, \n",
    "                     epsilon, discount_factor)\n",
    "\n",
    "# Train the agent on a number of matches (num_episodes)\n",
    "# For each episode count the number of rounds the agent survived\n",
    "num_episodes = 500\n",
    "for i in range(num_episodes):\n",
    "    state = env.reset()\n",
    "    done = False\n",
    "    rounds = 0\n",
    "    while not done:\n",
    "        action = agent.best_action(state, training=True)\n",
    "        old_state = state\n",
    "        state, reward, done, info = env.step(action)\n",
    "        agent.update_parameters(old_state, state, action, reward)\n",
    "        rounds += 1\n",
    "    if i % 100 == 0:\n",
    "        print(\"\\n--> Game Over. Rounds: {}\".format(rounds))\n",
    "        print(\"Parameter vector:\\n{}\".format(agent.theta))\n",
    "print(\"\\n--> Game Over. Rounds: {}\".format(rounds))\n",
    "print(\"Parameter vector:\\n{}\".format(agent.theta))"
   ]
  },
  {
   "cell_type": "code",
   "execution_count": 7,
   "metadata": {
    "scrolled": true
   },
   "outputs": [
    {
     "name": "stdout",
     "output_type": "stream",
     "text": [
      "\n",
      "--> Game Over. Rounds: 48\n"
     ]
    }
   ],
   "source": [
    "# Watch the trained agent playing\n",
    "import time\n",
    "state = env.reset()\n",
    "done = False\n",
    "rounds = 0\n",
    "while not done:\n",
    "    env.render()\n",
    "    time.sleep(0.1)\n",
    "    action = agent.best_action(state, training=False)\n",
    "    state, reward, done, info = env.step(action)\n",
    "    rounds += 1\n",
    "    #print(state, action)\n",
    "print(\"\\n--> Game Over. Rounds: {}\".format(rounds))\n",
    "env.close()"
   ]
  }
 ],
 "metadata": {
  "kernelspec": {
   "display_name": "Python 3",
   "language": "python",
   "name": "python3"
  },
  "language_info": {
   "codemirror_mode": {
    "name": "ipython",
    "version": 3
   },
   "file_extension": ".py",
   "mimetype": "text/x-python",
   "name": "python",
   "nbconvert_exporter": "python",
   "pygments_lexer": "ipython3",
   "version": "3.6.7"
  }
 },
 "nbformat": 4,
 "nbformat_minor": 2
}
