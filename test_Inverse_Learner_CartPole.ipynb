{
 "cells": [
  {
   "cell_type": "code",
   "execution_count": 1,
   "metadata": {},
   "outputs": [],
   "source": [
    "import gym\n",
    "import numpy as np\n",
    "from Modules import Q_Learner, Inverse_Learner"
   ]
  },
  {
   "cell_type": "code",
   "execution_count": 2,
   "metadata": {},
   "outputs": [],
   "source": [
    "# Define the abstract method features()\n",
    "\n",
    "class My_Q_Learner(Q_Learner):\n",
    "    def features(self, state, action):\n",
    "        feat1 = state[2:3]\n",
    "        action_sign = 2*action - 1\n",
    "        feat2 = np.abs([state[2] + action_sign])\n",
    "        bias = np.ones(1)\n",
    "        return np.concatenate((feat1, feat2, bias))"
   ]
  },
  {
   "cell_type": "code",
   "execution_count": 3,
   "metadata": {},
   "outputs": [
    {
     "name": "stderr",
     "output_type": "stream",
     "text": [
      "/home/fra/Softwares/anaconda3/envs/pytorch/lib/python3.6/site-packages/gym/envs/registration.py:14: PkgResourcesDeprecationWarning: Parameters to load are deprecated.  Call .resolve and .require separately.\n",
      "  result = entry_point.load(False)\n"
     ]
    },
    {
     "name": "stdout",
     "output_type": "stream",
     "text": [
      "\n",
      "--> Game Over. Rounds: 53\n",
      "Parameter vector:\n",
      "[0.33598688 0.67030228 0.66167036]\n"
     ]
    }
   ],
   "source": [
    "# Generate the environment\n",
    "env = gym.make('CartPole-v0')\n",
    "\n",
    "# Parameters\n",
    "actions_arr = np.arange(env.action_space.n)\n",
    "d = 3 # <--- set the right number of features\n",
    "learning_rate = 0.01\n",
    "epsilon = 0.9\n",
    "discount_factor = 0.95\n",
    "\n",
    "# Initialize the agent\n",
    "agent = My_Q_Learner(actions_arr, d, learning_rate, \n",
    "                     epsilon, discount_factor)\n",
    "\n",
    "# Train the agent on a number of matches (num_episodes)\n",
    "# For each episode count the number of rounds the agent survived\n",
    "num_episodes = 500\n",
    "for i in range(num_episodes):\n",
    "    state = env.reset()\n",
    "    done = False\n",
    "    rounds = 0\n",
    "    while not done:\n",
    "        action = agent.best_action(state, training=True)\n",
    "        old_state = state\n",
    "        state, reward, done, info = env.step(action)\n",
    "        agent.update_parameters(old_state, state, action, reward)\n",
    "        rounds += 1\n",
    "\n",
    "print(\"\\n--> Game Over. Rounds: {}\".format(rounds))\n",
    "print(\"Parameter vector:\\n{}\".format(agent.theta))"
   ]
  },
  {
   "cell_type": "code",
   "execution_count": 4,
   "metadata": {},
   "outputs": [
    {
     "name": "stdout",
     "output_type": "stream",
     "text": [
      "On average, the agent survives 41.64 rounds.\n",
      "\n"
     ]
    }
   ],
   "source": [
    "# Find the mean number of rounds the agent can survive\n",
    "num_episodes = 100\n",
    "rounds = 0\n",
    "for i in range(num_episodes):\n",
    "    state = env.reset()\n",
    "    done = False\n",
    "    while not done:\n",
    "        action = agent.best_action(state, training=False)\n",
    "        state, _, done, _ = env.step(action)\n",
    "        rounds += 1\n",
    "print(\"On average, the agent survives {} rounds.\\n\".format(rounds/num_episodes))"
   ]
  },
  {
   "cell_type": "code",
   "execution_count": 5,
   "metadata": {},
   "outputs": [],
   "source": [
    "# Define the abstract methods\n",
    "\n",
    "class My_Inverse_Learner(Inverse_Learner):\n",
    "    def features(self, old_state, action, state):\n",
    "        feat1 = np.abs(state) - np.abs(old_state)\n",
    "        bias = np.ones(1)\n",
    "        return np.concatenate((feat1, bias))\n",
    "\n",
    "    def environment(self):\n",
    "        return gym.make('CartPole-v0')\n",
    "    \n",
    "    def imitator(self):\n",
    "        # Parameters\n",
    "        actions_arr = np.arange(env.action_space.n)\n",
    "        d = 3 # <--- set the right number of features\n",
    "        learning_rate = 0.01\n",
    "        epsilon = 0.9\n",
    "        discount_factor = 0.95\n",
    "\n",
    "        imitator = My_Q_Learner(actions_arr, d, learning_rate, \n",
    "                             epsilon, discount_factor)\n",
    "        return imitator"
   ]
  },
  {
   "cell_type": "code",
   "execution_count": 6,
   "metadata": {},
   "outputs": [],
   "source": [
    "def produce_trajectory(agent, env):\n",
    "    state = env.reset()\n",
    "    trajectory = [state]\n",
    "    done = False\n",
    "    while(not done):\n",
    "        action = agent.best_action(state, training=False)\n",
    "        state, _, done, _ = env.step(action)\n",
    "        trajectory.append(action)\n",
    "        trajectory.append(state)\n",
    "    return trajectory"
   ]
  },
  {
   "cell_type": "code",
   "execution_count": 7,
   "metadata": {},
   "outputs": [],
   "source": [
    "# we use the agent trained in the cells above\n",
    "\n",
    "# Generate trajectories with the agent already trained\n",
    "num_trajectories = 10\n",
    "expert_trajectories = []\n",
    "for i in range(num_trajectories):\n",
    "    expert_trajectories.append(produce_trajectory(agent, env))"
   ]
  },
  {
   "cell_type": "code",
   "execution_count": 8,
   "metadata": {},
   "outputs": [],
   "source": [
    "# Initialize the reward-learning environment\n",
    "\n",
    "features_dim = 5 # <--- set the number of features of the reward function\n",
    "discount_factor = 0.95\n",
    "\n",
    "irl = My_Inverse_Learner(features_dim, expert_trajectories, discount_factor)\n",
    "irl.initialize_parameters(num_matches=10)"
   ]
  },
  {
   "cell_type": "code",
   "execution_count": 9,
   "metadata": {},
   "outputs": [],
   "source": [
    "# Search for the reward function parameters\n",
    "for i in range(100):\n",
    "    irl.update_parameters(num_matches=10)"
   ]
  },
  {
   "cell_type": "code",
   "execution_count": 10,
   "metadata": {},
   "outputs": [],
   "source": [
    "# Imitation: Train a new agent w.r.t. the reward we just learned\n",
    "imitator = My_Q_Learner(actions_arr, d, learning_rate, \n",
    "                     epsilon, discount_factor)\n",
    "\n",
    "imitator = irl.train_agent(imitator)"
   ]
  },
  {
   "cell_type": "code",
   "execution_count": 11,
   "metadata": {},
   "outputs": [
    {
     "name": "stdout",
     "output_type": "stream",
     "text": [
      "Expert parameters:\t[0.33598688 0.67030228 0.66167036]\n",
      "Imitator parameters:\t[-0.07825517  0.73000616  0.6789456 ]\n"
     ]
    }
   ],
   "source": [
    "print(\"Expert parameters:\\t{}\\nImitator parameters:\\t{}\".format(agent.theta, imitator.theta))"
   ]
  },
  {
   "cell_type": "code",
   "execution_count": 12,
   "metadata": {},
   "outputs": [
    {
     "name": "stdout",
     "output_type": "stream",
     "text": [
      "On average, the agent survives 41.33 rounds.\n",
      "\n"
     ]
    }
   ],
   "source": [
    "# Find the mean number of rounds the imitator can survive\n",
    "num_episodes = 100\n",
    "rounds = 0\n",
    "for i in range(num_episodes):\n",
    "    state = env.reset()\n",
    "    done = False\n",
    "    while not done:\n",
    "        action = imitator.best_action(state, training=False)\n",
    "        state, _, done, _ = env.step(action)\n",
    "        rounds += 1\n",
    "print(\"On average, the imitator survives {} rounds.\\n\".format(rounds/num_episodes))"
   ]
  }
 ],
 "metadata": {
  "kernelspec": {
   "display_name": "Python 3",
   "language": "python",
   "name": "python3"
  },
  "language_info": {
   "codemirror_mode": {
    "name": "ipython",
    "version": 3
   },
   "file_extension": ".py",
   "mimetype": "text/x-python",
   "name": "python",
   "nbconvert_exporter": "python",
   "pygments_lexer": "ipython3",
   "version": "3.6.7"
  }
 },
 "nbformat": 4,
 "nbformat_minor": 2
}
