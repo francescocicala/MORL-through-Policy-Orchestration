{
 "cells": [
  {
   "cell_type": "code",
   "execution_count": 4,
   "metadata": {},
   "outputs": [],
   "source": [
    "import gym\n",
    "import numpy as np\n",
    "from LearningAlgorithms.q_learner import Q_Learner"
   ]
  },
  {
   "cell_type": "code",
   "execution_count": 16,
   "metadata": {},
   "outputs": [],
   "source": [
    "class My_Q_Learner(Q_Learner):\n",
    "    def features(self, state, action):\n",
    "        action_sign = 2*action - 1\n",
    "        feat1 = np.abs([state[2] + action_sign])\n",
    "        return np.concatenate((state, feat1))\n",
    "    \n",
    "    def environment(self):\n",
    "        return gym.make('CartPole-v0')"
   ]
  },
  {
   "cell_type": "code",
   "execution_count": 17,
   "metadata": {},
   "outputs": [
    {
     "name": "stdout",
     "output_type": "stream",
     "text": [
      "\n",
      "--> Game Over. Rounds: 8 | Score: 8.0\n",
      "Parameter vector:\n",
      "[ 0.70328656  0.46409958 -0.00767335 -0.2577557  -0.47276073]\n",
      "\n",
      "--> Game Over. Rounds: 25 | Score: 25.0\n",
      "Parameter vector:\n",
      "[-0.04097099 -0.05413197  0.07501933  0.12186901  0.98737589]\n",
      "\n",
      "--> Game Over. Rounds: 38 | Score: 38.0\n",
      "Parameter vector:\n",
      "[-0.05292808 -0.05943205  0.08768303  0.10019524  0.98789628]\n",
      "\n",
      "--> Game Over. Rounds: 42 | Score: 42.0\n",
      "Parameter vector:\n",
      "[-0.08626871 -0.00987788  0.0888658   0.00929289  0.99220797]\n",
      "\n",
      "--> Game Over. Rounds: 24 | Score: 24.0\n",
      "Parameter vector:\n",
      "[-0.06052526  0.01004273  0.07872077  0.04277701  0.99408702]\n",
      "\n",
      "--> Game Over. Rounds: 51 | Score: 51.0\n",
      "Parameter vector:\n",
      "[-0.06998458 -0.05788397  0.08698238  0.15210352  0.98033167]\n"
     ]
    }
   ],
   "source": [
    "env = gym.make('CartPole-v0')\n",
    "\n",
    "actions_arr = np.arange(env.action_space.n)\n",
    "d = 5\n",
    "learning_rate = 0.01\n",
    "epsilon = 0.9\n",
    "discount_factor = 0.95\n",
    "\n",
    "agent = My_Q_Learner(actions_arr, d, learning_rate, \n",
    "                     epsilon, discount_factor)\n",
    "\n",
    "num_episodes = 500\n",
    "for i in range(num_episodes):\n",
    "    state = env.reset()\n",
    "    done = False\n",
    "    rounds = 0\n",
    "    while not done:\n",
    "        action = agent.best_action(state, training=True)\n",
    "        old_state = state\n",
    "        state, reward, done, info = env.step(action)\n",
    "        agent.update_parameters(old_state, state, action, reward)\n",
    "        rounds += 1\n",
    "    if i % 100 == 0:\n",
    "        print(\"\\n--> Game Over. Rounds: {}\".format(rounds))\n",
    "        print(\"Parameter vector:\\n{}\".format(agent.theta))\n",
    "print(\"\\n--> Game Over. Rounds: {}\".format(rounds))\n",
    "print(\"Parameter vector:\\n{}\".format(agent.theta))"
   ]
  },
  {
   "cell_type": "code",
   "execution_count": 25,
   "metadata": {
    "scrolled": true
   },
   "outputs": [
    {
     "name": "stdout",
     "output_type": "stream",
     "text": [
      "\n",
      "--> Game Over. Rounds: 40\n"
     ]
    }
   ],
   "source": [
    "import time\n",
    "state = env.reset()\n",
    "done = False\n",
    "rounds = 0\n",
    "while not done:\n",
    "    env.render()\n",
    "    time.sleep(0.1)\n",
    "    action = agent.best_action(state, training=False)\n",
    "    state, reward, done, info = env.step(action)\n",
    "    rounds += 1\n",
    "    #print(state, action)\n",
    "print(\"\\n--> Game Over. Rounds: {}\".format(rounds))\n",
    "env.close()"
   ]
  },
  {
   "cell_type": "code",
   "execution_count": null,
   "metadata": {},
   "outputs": [],
   "source": []
  }
 ],
 "metadata": {
  "kernelspec": {
   "display_name": "Python 3",
   "language": "python",
   "name": "python3"
  },
  "language_info": {
   "codemirror_mode": {
    "name": "ipython",
    "version": 3
   },
   "file_extension": ".py",
   "mimetype": "text/x-python",
   "name": "python",
   "nbconvert_exporter": "python",
   "pygments_lexer": "ipython3",
   "version": "3.6.7"
  }
 },
 "nbformat": 4,
 "nbformat_minor": 2
}
